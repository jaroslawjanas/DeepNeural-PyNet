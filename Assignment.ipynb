{
 "cells": [
  {
   "cell_type": "markdown",
   "metadata": {},
   "source": [
    "# Assignment 1"
   ]
  },
  {
   "cell_type": "markdown",
   "metadata": {},
   "source": [
    "## Imports"
   ]
  },
  {
   "cell_type": "code",
   "execution_count": 1,
   "metadata": {
    "pycharm": {
     "name": "#%%\n"
    }
   },
   "outputs": [],
   "source": [
    "import numpy as np\n",
    "import random\n",
    "import math\n",
    "import sys\n",
    "from IPython.display import Latex"
   ]
  },
  {
   "cell_type": "markdown",
   "metadata": {},
   "source": [
    "## Part 1 - Logistic Regression"
   ]
  },
  {
   "cell_type": "markdown",
   "metadata": {},
   "source": [
    "I took a very modular approach to building my models. As you can see below I give the user an option to specify their own functions if they want to. I don't use it much in the first few models but will showcase it more for part 5.\n",
    "\n",
    "I didn't really bother getting everything perfectly here, the model doesn't really check for convergence and just runs as long as it's told to.\n",
    "Weights are a 1D array and bias is just a constant."
   ]
  },
  {
   "cell_type": "code",
   "execution_count": 2,
   "metadata": {
    "pycharm": {
     "name": "#%%\n"
    }
   },
   "outputs": [],
   "source": [
    "class LogisticReg():\n",
    "\n",
    "    def __init__(self):\n",
    "        self.input_size = None\n",
    "        self.weights = None\n",
    "        self.bias = None\n",
    "        self.activation = None\n",
    "\n",
    "    @staticmethod\n",
    "    def weights_init(size):\n",
    "        return np.random.uniform(-1/100, 1/100, size)\n",
    "\n",
    "    @staticmethod\n",
    "    def bias_init():\n",
    "        return np.random.uniform(-1/100, 1/100, 1)\n",
    "\n",
    "    @staticmethod\n",
    "    def sigmoid(x):\n",
    "        return 1 / (1 + np.exp(-x))\n",
    "\n",
    "    @staticmethod\n",
    "    def logistic_loss(a, y):\n",
    "        return - (y * math.log(a) + (1 - y) * math.log(1 - a))\n",
    "\n",
    "    def train(self, data, labels, alpha=0.1, epochs=1,\n",
    "              weights_init = None,\n",
    "              biases_init = None,\n",
    "              activation = None,\n",
    "             ):\n",
    "\n",
    "        if weights_init is None:\n",
    "            weights_init = LogisticReg.weights_init\n",
    "\n",
    "        if biases_init is None:\n",
    "            biases_init = LogisticReg.bias_init\n",
    "\n",
    "        if activation is None:\n",
    "            self.activation = LogisticReg.sigmoid\n",
    "\n",
    "        self.input_size = np.shape(data[0])[0]\n",
    "        self.weights = weights_init(self.input_size)\n",
    "        self.bias = biases_init()\n",
    "\n",
    "        for _ in range(epochs):\n",
    "            for dp, label in zip(data, labels):\n",
    "                a = self.predict(dp)\n",
    "\n",
    "                # Taken from notes\n",
    "                dL_dw = (a - label) * dp\n",
    "                dL_db = a - label\n",
    "\n",
    "                self.weights -= alpha * dL_dw\n",
    "                self.bias -= alpha * dL_db\n",
    "\n",
    "    def predict(self, in_dp):\n",
    "        z = np.sum(in_dp * self.weights) + self.bias\n",
    "        return float(self.activation(z))"
   ]
  },
  {
   "cell_type": "code",
   "execution_count": 3,
   "metadata": {
    "pycharm": {
     "name": "#%%\n"
    }
   },
   "outputs": [],
   "source": [
    "lr = LogisticReg()\n",
    "lr.train(np.array([[1, 1, 1], [0, 0 ,0], [1, 1, 1], [1, 1, 1], [0, 0, 0]]), np.array([1, 0, 1, 1, 0]))"
   ]
  },
  {
   "cell_type": "markdown",
   "metadata": {},
   "source": [
    "## Part 2 - LR Easy Tasks"
   ]
  },
  {
   "cell_type": "markdown",
   "metadata": {},
   "source": [
    "### Imports"
   ]
  },
  {
   "cell_type": "code",
   "execution_count": 4,
   "metadata": {
    "pycharm": {
     "name": "#%%\n"
    }
   },
   "outputs": [],
   "source": [
    "import matplotlib\n",
    "import matplotlib.pyplot as plt\n",
    "import sklearn\n",
    "import sklearn.datasets\n",
    "import pandas as pd\n",
    "import numpy as np\n",
    "\n",
    "# Display plots inline and change default figure size\n",
    "%matplotlib inline"
   ]
  },
  {
   "cell_type": "code",
   "execution_count": 5,
   "metadata": {
    "pycharm": {
     "name": "#%%\n"
    }
   },
   "outputs": [],
   "source": [
    "## Based on the provided code\n",
    "\n",
    "# Use pandas to read the CSV file as a dataframe\n",
    "df_blobs = pd.read_csv(\"blobs300.csv\")\n",
    "\n",
    "# The y values are those labelled 'Class': extract their values\n",
    "classes_blobs = df_blobs['Class'].values\n",
    "\n",
    "# The x values are all other columns\n",
    "del df_blobs['Class']   # drop the 'Class' column from the dataframe\n",
    "data_blobs = df_blobs.values    # convert the remaining columns to a numpy array\n",
    "\n",
    "\n",
    "# Use pandas to read the CSV file as a dataframe\n",
    "df_circles = pd.read_csv(\"circles600.csv\")\n",
    "\n",
    "# The y values are those labelled 'Class': extract their values\n",
    "classes_circles = df_circles['Class'].values\n",
    "\n",
    "# The x values are all other columns\n",
    "del df_circles['Class']     # drop the 'Class' column from the dataframe\n",
    "data_circles = df_circles.values    # convert the remaining columns to a numpy array"
   ]
  },
  {
   "cell_type": "markdown",
   "metadata": {},
   "source": [
    "### Shuffle and Split"
   ]
  },
  {
   "cell_type": "markdown",
   "metadata": {
    "pycharm": {
     "name": "#%% md\n"
    }
   },
   "source": [
    "Shuffles provided data, splits it according to the provided parameters and returns a dictionary with `[\"training]`, `[\"validation\"]` and `[\"testing\"]`."
   ]
  },
  {
   "cell_type": "code",
   "execution_count": 6,
   "metadata": {
    "pycharm": {
     "name": "#%%\n"
    }
   },
   "outputs": [],
   "source": [
    "def shuffle_and_split(data, labels, validation_split=0.7, test_split=0.15):\n",
    "    # Below 3 lines based on https://play.pixelblaster.ro/blog/2017/01/20/how-to-shuffle-two-arrays-to-the-same-order/\n",
    "    l = labels.shape[0]\n",
    "    s = np.arange(l) # seed\n",
    "    np.random.shuffle(s)\n",
    "    #-----------\n",
    "\n",
    "    data = np.array(data[s])\n",
    "    labels = np.array(labels[s])\n",
    "\n",
    "    validation_pivot = int(l * validation_split)\n",
    "    testing_pivot = int(validation_pivot + l * test_split)\n",
    "\n",
    "    data = {\n",
    "        \"training\" : {\n",
    "            \"input\": data[0 : validation_pivot],\n",
    "            \"classes\": labels[0 : validation_pivot]\n",
    "        },\n",
    "        \"validation\" : {\n",
    "            \"input\": data[validation_pivot : testing_pivot],\n",
    "            \"classes\": labels[validation_pivot : testing_pivot],\n",
    "        },\n",
    "        \"testing\" : {\n",
    "            \"input\": data[testing_pivot : l],\n",
    "            \"classes\": labels[testing_pivot : l]\n",
    "        },\n",
    "    }\n",
    "\n",
    "    return data"
   ]
  },
  {
   "cell_type": "markdown",
   "metadata": {},
   "source": [
    "### Train - Blobs"
   ]
  },
  {
   "cell_type": "code",
   "execution_count": 7,
   "metadata": {
    "pycharm": {
     "name": "#%%\n"
    }
   },
   "outputs": [],
   "source": [
    "data = dict()\n",
    "data[\"blobs\"] = shuffle_and_split(data_blobs, classes_blobs, validation_split=0.7, test_split=0.15)\n",
    "\n",
    "lr_blob = LogisticReg()\n",
    "lr_blob.train(data[\"blobs\"][\"training\"][\"input\"], data[\"blobs\"][\"training\"][\"classes\"], alpha = 0.03)"
   ]
  },
  {
   "cell_type": "markdown",
   "metadata": {},
   "source": [
    "### Predict - Blobs"
   ]
  },
  {
   "cell_type": "code",
   "execution_count": 8,
   "metadata": {
    "pycharm": {
     "name": "#%%\n"
    }
   },
   "outputs": [
    {
     "name": "stdout",
     "output_type": "stream",
     "text": [
      "Accuracy = 0.9777777777777777\n"
     ]
    }
   ],
   "source": [
    "correct = 0\n",
    "for dp, label in zip(data[\"blobs\"][\"validation\"][\"input\"], data[\"blobs\"][\"validation\"][\"classes\"]):\n",
    "    a = lr_blob.predict(dp)\n",
    "\n",
    "    if round(a) == label:\n",
    "        correct += 1\n",
    "\n",
    "print(f\"Accuracy = {correct / len(data['blobs']['validation']['classes']) }\")"
   ]
  },
  {
   "cell_type": "markdown",
   "metadata": {},
   "source": [
    "### Test - Blobs"
   ]
  },
  {
   "cell_type": "code",
   "execution_count": 9,
   "metadata": {
    "pycharm": {
     "name": "#%%\n"
    }
   },
   "outputs": [
    {
     "name": "stdout",
     "output_type": "stream",
     "text": [
      "Accuracy = 0.9555555555555556\n"
     ]
    }
   ],
   "source": [
    "correct = 0\n",
    "for dp, label in zip(data[\"blobs\"][\"testing\"][\"input\"], data[\"blobs\"][\"testing\"][\"classes\"]):\n",
    "    a = lr_blob.predict(dp)\n",
    "\n",
    "    if round(a) == label:\n",
    "        correct += 1\n",
    "\n",
    "print(f\"Accuracy = {correct / len(data['blobs']['testing']['classes']) }\")"
   ]
  },
  {
   "cell_type": "markdown",
   "metadata": {
    "pycharm": {
     "name": "#%% md\n"
    }
   },
   "source": [
    "As expected the results for linearly separable data are very good."
   ]
  },
  {
   "cell_type": "markdown",
   "metadata": {},
   "source": [
    "### Train - Circles"
   ]
  },
  {
   "cell_type": "code",
   "execution_count": 10,
   "metadata": {
    "pycharm": {
     "name": "#%%\n"
    }
   },
   "outputs": [],
   "source": [
    "data[\"circles\"] = shuffle_and_split(data_circles, classes_circles, validation_split=0.7, test_split=0.15)\n",
    "\n",
    "lr_circles = LogisticReg()\n",
    "lr_circles.train(data[\"circles\"][\"training\"][\"input\"], data[\"circles\"][\"training\"][\"classes\"], alpha=0.05)"
   ]
  },
  {
   "cell_type": "markdown",
   "metadata": {},
   "source": [
    "### Predict - Circles"
   ]
  },
  {
   "cell_type": "code",
   "execution_count": 11,
   "metadata": {
    "pycharm": {
     "name": "#%%\n"
    }
   },
   "outputs": [
    {
     "name": "stdout",
     "output_type": "stream",
     "text": [
      "Accuracy = 0.6222222222222222\n"
     ]
    }
   ],
   "source": [
    "correct = 0\n",
    "for dp, label in zip(data[\"circles\"][\"validation\"][\"input\"], data[\"circles\"][\"validation\"][\"classes\"]):\n",
    "    a = lr_circles.predict(dp)\n",
    "\n",
    "    if round(a) == label:\n",
    "        correct += 1\n",
    "\n",
    "print(f\"Accuracy = {correct / len(data['circles']['validation']['classes'])}\")"
   ]
  },
  {
   "cell_type": "markdown",
   "metadata": {},
   "source": [
    "### Testing - Circles"
   ]
  },
  {
   "cell_type": "code",
   "execution_count": 12,
   "metadata": {
    "pycharm": {
     "name": "#%%\n"
    }
   },
   "outputs": [
    {
     "name": "stdout",
     "output_type": "stream",
     "text": [
      "Accuracy = 0.6777777777777778\n"
     ]
    }
   ],
   "source": [
    "correct = 0\n",
    "for dp, label in zip(data[\"circles\"][\"testing\"][\"input\"], data[\"circles\"][\"testing\"][\"classes\"]):\n",
    "    a = lr_circles.predict(dp)\n",
    "\n",
    "    if round(a) == label:\n",
    "        correct += 1\n",
    "\n",
    "print(f\"Accuracy = {correct / len(data['circles']['testing']['classes'])}\")"
   ]
  },
  {
   "cell_type": "markdown",
   "metadata": {
    "pycharm": {
     "name": "#%% md\n"
    }
   },
   "source": [
    "Logistic regression is not a good fit for non-linearly separable data, hence the poor (random) result."
   ]
  },
  {
   "cell_type": "markdown",
   "metadata": {},
   "source": [
    "## Part 3 - Shallow Neural Network"
   ]
  },
  {
   "cell_type": "code",
   "execution_count": 13,
   "metadata": {
    "pycharm": {
     "name": "#%%\n"
    }
   },
   "outputs": [],
   "source": [
    "class ShallowNetwork:\n",
    "    epsilon = sys.float_info.epsilon\n",
    "\n",
    "    def __init__(self):\n",
    "        self.input_size = None\n",
    "        self.weights = None\n",
    "        self.biases = None\n",
    "        self.activation = None\n",
    "        self.activation_derivative = None\n",
    "        self.loss_function = None\n",
    "        self.normalizer = None\n",
    "\n",
    "    @staticmethod\n",
    "    def weights_init(size):\n",
    "        return np.random.normal(0, 0.2, size)\n",
    "        # Based on  xavier initialization\n",
    "        # https://machinelearningmastery.com/weight-initialization-for-deep-learning-neural-networks/\n",
    "        # n = 1\n",
    "        # if len(size) > 1:\n",
    "        #     n = size[1]\n",
    "        # return np.random.uniform(-1/math.sqrt(n), 1/math.sqrt(n), size)\n",
    "\n",
    "    @staticmethod\n",
    "    def biases_init(size):\n",
    "        return np.random.normal(0, 0.2, size)\n",
    "\n",
    "    # Because of overflow\n",
    "    # as explained here\n",
    "    # https://shaktiwadekar.medium.com/how-to-avoid-numerical-overflow-in-sigmoid-function-numerically-stable-sigmoid-function-5298b14720f6\n",
    "    @staticmethod\n",
    "    def sigmoid(x):\n",
    "        return np.where( x >= 0, (1 / (1 + np.exp(-x))), (np.exp(x) / (1 + np.exp(x))) )\n",
    "\n",
    "    @staticmethod\n",
    "    def sigmoid_derivative(x):\n",
    "        return ShallowNetwork.sigmoid(x) * (1 - ShallowNetwork.sigmoid(x))\n",
    "\n",
    "    @staticmethod\n",
    "    def logistic_loss(a, y):\n",
    "        return - (y * math.log(a + ShallowNetwork.epsilon) + (1 - y) * math.log(1 - a + ShallowNetwork.epsilon))\n",
    "\n",
    "    # Proper transpose, not this numpy BS\n",
    "    @staticmethod\n",
    "    def transpose(x):\n",
    "        if len(np.shape(x)) == 1:\n",
    "            return x.reshape(1, -1)\n",
    "        return np.transpose(x)\n",
    "\n",
    "    # Based on https://en.wikipedia.org/wiki/Feature_scaling\n",
    "    @staticmethod\n",
    "    def normalize(x, x_min, x_max, new_min=-1, new_max=1):\n",
    "        return ((x - x_min) / (x_max - x_min)) * (new_max - new_min) + new_min\n",
    "\n",
    "    @staticmethod\n",
    "    def normalizer_constructor(data, normalize):\n",
    "        t_data = ShallowNetwork.transpose(data)\n",
    "        x_min = []\n",
    "        x_max = []\n",
    "        for d_vector in t_data:\n",
    "            x_min.append(min(d_vector))\n",
    "            x_max.append(max(d_vector))\n",
    "\n",
    "        return lambda x: np.array([normalize(xx, x_min[idx], x_max[idx]) for idx, xx in enumerate(x)])\n",
    "\n",
    "    def train(self, data, labels, k=10, alpha=0.5, stop_early=False, stop_avg_loss=0.01, n_loss_avg = 10,\n",
    "              iterations=None,\n",
    "              weights_init = None,\n",
    "              biases_init = None,\n",
    "              activation = None,\n",
    "              activation_derivative = None,\n",
    "              loss_function = None,\n",
    "              normalize = None\n",
    "             ):\n",
    "\n",
    "        if iterations is None:\n",
    "            iterations = len(data)\n",
    "\n",
    "        if weights_init is None:\n",
    "            weights_init = ShallowNetwork.weights_init\n",
    "\n",
    "        if biases_init is None:\n",
    "            biases_init = ShallowNetwork.biases_init\n",
    "\n",
    "        if activation is None:\n",
    "            activation = ShallowNetwork.sigmoid\n",
    "\n",
    "        if activation_derivative is None:\n",
    "            activation_derivative = ShallowNetwork.sigmoid_derivative\n",
    "\n",
    "        if loss_function is None:\n",
    "            loss_function = ShallowNetwork.logistic_loss\n",
    "\n",
    "        if normalize is None:\n",
    "            normalize = ShallowNetwork.normalize\n",
    "\n",
    "        self.input_size = np.shape(data[0])[0]\n",
    "        self.weights = [weights_init((k, self.input_size)), weights_init((1, k))]\n",
    "        self.biases = [biases_init(k), biases_init(1)]\n",
    "        self.activation = np.vectorize(activation)\n",
    "        self.activation_derivative = np.vectorize(activation_derivative)\n",
    "        self.loss_function = np.vectorize(loss_function)\n",
    "        alpha = float(alpha)\n",
    "        self.normalizer = ShallowNetwork.normalizer_constructor(data, normalize)\n",
    "\n",
    "        losses = []\n",
    "        for iter in range(iterations):\n",
    "            [dp, label] = random.choice(list((zip(data, labels))))\n",
    "\n",
    "            a, z = self.f_propagate(dp)\n",
    "            if stop_early:\n",
    "                loss = self.loss_function(a[-1], label)[0]\n",
    "                if len(losses) == n_loss_avg:\n",
    "                    avg_loss = sum(losses) / len(losses)\n",
    "                    if avg_loss < stop_avg_loss:\n",
    "                        print(f\"Stopped after {iter} iterations\")\n",
    "                        break\n",
    "                losses.append(loss)\n",
    "                losses = losses[-n_loss_avg:]\n",
    "\n",
    "            # Based on my old assignment https://github.com/jaroslawjanas/NN-Perceptron\n",
    "            # (math is included in the repo https://github.com/jaroslawjanas/NN-Perceptron/tree/master/maths) which\n",
    "            # is based on this playlist of videos https://youtube.com/playlist?list=PLZHQObOWTQDNU6R1_67000Dx_ZCJB-3pi\n",
    "            # and partially based on https://sudeepraja.github.io/Neural/\n",
    "\n",
    "            # Output Layer\n",
    "            dL_dz = a[-1] - label\n",
    "            dz_dw = a[-2]  # previous layer\n",
    "            dz_db = 1\n",
    "            dz_da_m1 = self.weights[-1]\n",
    "\n",
    "\n",
    "            dL_dw = dL_dz.dot(ShallowNetwork.transpose(dz_dw))\n",
    "            dL_db = dL_dz * dz_db\n",
    "            dL_da_m1 = ShallowNetwork.transpose(dz_da_m1).dot(dL_dz) # this line is based on https://sudeepraja.github.io/Neural/\n",
    "\n",
    "            self.weights[-1] -= alpha * dL_dw\n",
    "            self.biases[-1] -= alpha * dL_db\n",
    "\n",
    "            # Hidden Layer\n",
    "            da_m1_dz_m1 = activation_derivative(z[-2])\n",
    "            dL_dz_m1 = dL_da_m1 * da_m1_dz_m1\n",
    "            dz_m1_dw_m1 = a[-3]\n",
    "            dz_m1_db_m1 = 1\n",
    "\n",
    "            dL_dw_m1 = dL_dz_m1[:,np.newaxis].dot(ShallowNetwork.transpose(dz_m1_dw_m1))\n",
    "            # above line is based on https://sudeepraja.github.io/Neural/\n",
    "            dL_db_m1 = dL_dz_m1 * dz_m1_db_m1\n",
    "\n",
    "            self.weights[-2] -= alpha * dL_dw_m1\n",
    "            self.biases[-2] -= alpha * dL_db_m1\n",
    "\n",
    "    def f_propagate(self, in_dp):\n",
    "        norm_in_dp = self.normalizer(in_dp)\n",
    "        a = [norm_in_dp]\n",
    "        zz = []\n",
    "        for weights, biases in zip(self.weights, self.biases):\n",
    "\n",
    "            z = np.dot(weights, a[-1]) + biases\n",
    "            zz = zz + [z]\n",
    "            a = a + [self.activation(z)]\n",
    "\n",
    "        return a, zz\n",
    "\n",
    "    def predict(self, in_dp):\n",
    "        a, _ = self.f_propagate(in_dp)\n",
    "        return a[-1]"
   ]
  },
  {
   "cell_type": "markdown",
   "metadata": {
    "pycharm": {
     "name": "#%% md\n"
    }
   },
   "source": [
    "### Blobs"
   ]
  },
  {
   "cell_type": "code",
   "execution_count": 14,
   "metadata": {
    "pycharm": {
     "name": "#%%\n"
    }
   },
   "outputs": [
    {
     "name": "stdout",
     "output_type": "stream",
     "text": [
      "Stopped after 421 iterations\n"
     ]
    }
   ],
   "source": [
    "snn_blobs = ShallowNetwork()\n",
    "snn_blobs.train(data[\"blobs\"][\"training\"][\"input\"], data[\"blobs\"][\"training\"][\"classes\"],\n",
    "                k=3 , alpha=0.5, iterations=50_000,\n",
    "                stop_early=True, stop_avg_loss=0.01, n_loss_avg=5)"
   ]
  },
  {
   "cell_type": "code",
   "execution_count": 15,
   "metadata": {
    "pycharm": {
     "name": "#%%\n"
    }
   },
   "outputs": [
    {
     "name": "stdout",
     "output_type": "stream",
     "text": [
      "Accuracy = 1.0\n"
     ]
    }
   ],
   "source": [
    "correct = 0\n",
    "for dp, label in zip(data[\"blobs\"][\"testing\"][\"input\"], data[\"blobs\"][\"testing\"][\"classes\"]):\n",
    "    a = snn_blobs.predict(dp)\n",
    "\n",
    "    if round(a[0]) == label:\n",
    "        correct += 1\n",
    "\n",
    "print(f\"Accuracy = {correct / len(data['blobs']['testing']['classes'])}\")"
   ]
  },
  {
   "cell_type": "code",
   "execution_count": 16,
   "metadata": {
    "pycharm": {
     "name": "#%%\n"
    }
   },
   "outputs": [
    {
     "name": "stdout",
     "output_type": "stream",
     "text": [
      "Accuracy = 1.0\n"
     ]
    }
   ],
   "source": [
    "correct = 0\n",
    "for dp, label in zip(data[\"blobs\"][\"validation\"][\"input\"], data[\"blobs\"][\"validation\"][\"classes\"]):\n",
    "    a = snn_blobs.predict(dp)\n",
    "\n",
    "    if round(a[0]) == label:\n",
    "        correct += 1\n",
    "\n",
    "print(f\"Accuracy = {correct / len(data['blobs']['validation']['classes'])}\")"
   ]
  },
  {
   "cell_type": "markdown",
   "metadata": {},
   "source": [
    "### Circles"
   ]
  },
  {
   "cell_type": "code",
   "execution_count": 17,
   "metadata": {
    "pycharm": {
     "name": "#%%\n"
    }
   },
   "outputs": [
    {
     "name": "stdout",
     "output_type": "stream",
     "text": [
      "Stopped after 38475 iterations\n"
     ]
    }
   ],
   "source": [
    "snn_circles = ShallowNetwork()\n",
    "snn_circles.train(data[\"circles\"][\"training\"][\"input\"], data[\"circles\"][\"training\"][\"classes\"],\n",
    "                  k=3, alpha = 0.1, iterations = 50_000,\n",
    "                  stop_early=True, stop_avg_loss=0.005, n_loss_avg=5)"
   ]
  },
  {
   "cell_type": "code",
   "execution_count": 18,
   "metadata": {
    "pycharm": {
     "name": "#%%\n"
    }
   },
   "outputs": [
    {
     "name": "stdout",
     "output_type": "stream",
     "text": [
      "Accuracy = 1.0\n"
     ]
    }
   ],
   "source": [
    "correct = 0\n",
    "for dp, label in zip(data[\"circles\"][\"testing\"][\"input\"], data[\"circles\"][\"testing\"][\"classes\"]):\n",
    "    a = snn_circles.predict(dp)\n",
    "\n",
    "    if round(a[0]) == label:\n",
    "        correct += 1\n",
    "\n",
    "print(f\"Accuracy = {correct / len(data['circles']['testing']['classes'])}\")"
   ]
  },
  {
   "cell_type": "code",
   "execution_count": 19,
   "metadata": {
    "pycharm": {
     "name": "#%%\n"
    }
   },
   "outputs": [
    {
     "name": "stdout",
     "output_type": "stream",
     "text": [
      "Accuracy = 1.0\n"
     ]
    }
   ],
   "source": [
    "correct = 0\n",
    "for dp, label in zip(data[\"circles\"][\"validation\"][\"input\"], data[\"circles\"][\"validation\"][\"classes\"]):\n",
    "    a = snn_circles.predict(dp)\n",
    "\n",
    "    if round(a[0]) == label:\n",
    "        correct += 1\n",
    "\n",
    "print(f\"Accuracy = {correct / len(data['circles']['validation']['classes'])}\")"
   ]
  },
  {
   "cell_type": "code",
   "execution_count": 20,
   "metadata": {
    "pycharm": {
     "name": "#%%\n"
    }
   },
   "outputs": [
    {
     "name": "stdout",
     "output_type": "stream",
     "text": [
      "Stopped after 26599 iterations\n",
      "Stopped after 37494 iterations\n",
      "Stopped after 43035 iterations\n",
      "Stopped after 39425 iterations\n",
      "Stopped after 28735 iterations\n",
      "Stopped after 48262 iterations\n",
      "Stopped after 31017 iterations\n",
      "Stopped after 26566 iterations\n",
      "Stopped after 26189 iterations\n",
      "Avg accuracy 0.891\n"
     ]
    }
   ],
   "source": [
    "acc = 0\n",
    "for i in range(10):\n",
    "    snn_circles = ShallowNetwork()\n",
    "    snn_circles.train(data[\"circles\"][\"training\"][\"input\"], data[\"circles\"][\"training\"][\"classes\"],\n",
    "                  k=3, alpha = 0.1, iterations = 50_000,\n",
    "                  stop_early=True, stop_avg_loss=0.005, n_loss_avg=5)\n",
    "\n",
    "    correct = 0\n",
    "    for dp, label in zip(data[\"circles\"][\"testing\"][\"input\"], data[\"circles\"][\"testing\"][\"classes\"]):\n",
    "        a = snn_circles.predict(dp)\n",
    "\n",
    "        if round(a[0]) == label:\n",
    "            correct += 1\n",
    "\n",
    "    acc += round(correct / len(data['circles']['testing']['classes']), 2)\n",
    "\n",
    "print(f\"Avg accuracy {acc/10}\")"
   ]
  },
  {
   "cell_type": "markdown",
   "metadata": {
    "pycharm": {
     "name": "#%% md\n"
    }
   },
   "source": [
    "## Part 4 - Difficult Task "
   ]
  },
  {
   "cell_type": "code",
   "execution_count": 21,
   "metadata": {
    "pycharm": {
     "name": "#%%\n"
    }
   },
   "outputs": [],
   "source": [
    "# Literally just copied from the provided example\n",
    "\n",
    "def unpickle(file):\n",
    "    import pickle\n",
    "    with open(file, 'rb') as fo:\n",
    "        dict = pickle.load(fo, encoding='bytes')\n",
    "    return dict\n",
    "\n",
    "def loadbatch(batchname):\n",
    "    folder = 'cifar-10-batches-py'\n",
    "    batch = unpickle(folder+\"/\"+batchname)\n",
    "    return batch\n",
    "\n",
    "def loadlabelnames():\n",
    "    folder = 'cifar-10-batches-py'\n",
    "    meta = unpickle(folder+\"/\"+'batches.meta')\n",
    "    return meta[b'label_names']\n",
    "\n",
    "import matplotlib.pyplot as plt\n",
    "\n",
    "def visualise(data, index):\n",
    "    # MM Jan 2019: Given a CIFAR data nparray and the index of an image, display the image.\n",
    "    # Note that the images will be quite fuzzy looking, because they are low res (32x32).\n",
    "\n",
    "    picture = data[index]\n",
    "    # Initially, the data is a 1D array of 3072 pixels; reshape it to a 3D array of 3x32x32 pixels\n",
    "    # Note: after reshaping like this, you could select one colour channel or average them.\n",
    "    picture.shape = (3,32,32)\n",
    "\n",
    "    # Plot.imshow requires the RGB to be the third dimension, not the first, so need to rearrange\n",
    "    picture = picture.transpose([1, 2, 0])\n",
    "    plt.imshow(picture)\n",
    "    plt.show()"
   ]
  },
  {
   "cell_type": "markdown",
   "metadata": {
    "pycharm": {
     "name": "#%% md\n"
    }
   },
   "source": [
    "Loading a batch"
   ]
  },
  {
   "cell_type": "code",
   "execution_count": 22,
   "metadata": {
    "pycharm": {
     "name": "#%%\n"
    }
   },
   "outputs": [
    {
     "name": "stdout",
     "output_type": "stream",
     "text": [
      "Number of items in the batch is 4\n",
      "All keys in the batch: dict_keys([b'batch_label', b'labels', b'data', b'filenames'])\n"
     ]
    }
   ],
   "source": [
    "batch1 = loadbatch('data_batch_1')\n",
    "print(\"Number of items in the batch is\", len(batch1))\n",
    "\n",
    "# Display all keys, so we can see the ones we want\n",
    "print('All keys in the batch:', batch1.keys())"
   ]
  },
  {
   "cell_type": "markdown",
   "metadata": {
    "pycharm": {
     "name": "#%% md\n"
    }
   },
   "source": [
    "Separating the data into classes and showing sample images"
   ]
  },
  {
   "cell_type": "code",
   "execution_count": 23,
   "metadata": {
    "pycharm": {
     "name": "#%%\n"
    }
   },
   "outputs": [
    {
     "name": "stdout",
     "output_type": "stream",
     "text": [
      "size of data in this batch: 10000 , size of labels: 10000\n",
      "<class 'numpy.ndarray'>\n",
      "(10000, 3072)\n",
      "Horse idx shape: (1001,)\n",
      "Truck data shape: (1001, 3, 32, 32)\n",
      "Truck idx shape: (981,)\n",
      "Truck data shape: (981, 3, 32, 32)\n"
     ]
    },
    {
     "data": {
      "image/png": "[encoded data removed]",
      "text/plain": [
       "<Figure size 432x288 with 1 Axes>"
      ]
     },
     "metadata": {
      "needs_background": "light"
     },
     "output_type": "display_data"
    },
    {
     "data": {
      "image/png": "[encoded data removed]",
      "text/plain": [
       "<Figure size 432x288 with 1 Axes>"
      ]
     },
     "metadata": {
      "needs_background": "light"
     },
     "output_type": "display_data"
    }
   ],
   "source": [
    "cf_data = batch1[b'data']\n",
    "cf_labels = batch1[b'labels']\n",
    "\n",
    "print (\"size of data in this batch:\", len(cf_data), \", size of labels:\", len(cf_labels))\n",
    "print (type(cf_data))\n",
    "print(cf_data.shape)\n",
    "\n",
    "# names = loadlabelnames()\n",
    "# print(names)\n",
    "\n",
    "# My modifications\n",
    "horse_idxs = np.where(np.array(cf_labels) == 7)[0]\n",
    "horse_data = np.array(cf_data[horse_idxs])\n",
    "horse_data.shape = (len(horse_idxs), 3,32,32)\n",
    "print(f\"Horse idx shape: {np.shape(horse_idxs)}\")\n",
    "print(f\"Truck data shape: {np.shape(horse_data)}\")\n",
    "\n",
    "truck_idxs = np.where(np.array(cf_labels) ==9)[0]\n",
    "truck_data = np.array(cf_data[truck_idxs])\n",
    "truck_data.shape = (len(truck_idxs), 3,32,32)\n",
    "\n",
    "print(f\"Truck idx shape: {np.shape(truck_idxs)}\")\n",
    "print(f\"Truck data shape: {np.shape(truck_data)}\")\n",
    "\n",
    "picture = horse_data[0]\n",
    "# picture.shape = (3,32,32)\n",
    "\n",
    "picture = picture.transpose([1, 2, 0])\n",
    "plt.imshow(picture)\n",
    "plt.show()\n",
    "\n",
    "picture = truck_data[0]\n",
    "# picture.shape = (3,32,32)\n",
    "\n",
    "picture = picture.transpose([1, 2, 0])\n",
    "plt.imshow(picture)\n",
    "plt.show()"
   ]
  },
  {
   "cell_type": "markdown",
   "metadata": {
    "pycharm": {
     "name": "#%% md\n"
    }
   },
   "source": [
    "Joining the two classes into a single dataset"
   ]
  },
  {
   "cell_type": "code",
   "execution_count": 24,
   "metadata": {
    "pycharm": {
     "name": "#%%\n"
    }
   },
   "outputs": [
    {
     "name": "stdout",
     "output_type": "stream",
     "text": [
      "H&T = (1001, 3, 32, 32)\n",
      "+     (981, 3, 32, 32)\n",
      "H&T = (1982, 3, 32, 32)\n",
      "\n",
      "H&T_c = (1001,)\n",
      "+       (981,)\n",
      "H&T_c = (1982,)\n"
     ]
    }
   ],
   "source": [
    "horse_truck_data = np.array(horse_data)\n",
    "print(f\"H&T = {np.shape(horse_truck_data)}\")\n",
    "\n",
    "print(f\"+     {np.shape(truck_data)}\")\n",
    "\n",
    "horse_truck_data = np.append(horse_truck_data, truck_data, axis=0)\n",
    "print(f\"H&T = {np.shape(horse_truck_data)}\\n\")\n",
    "\n",
    "horse_truck_classes = np.array(np.zeros(len(horse_data)))\n",
    "print(f\"H&T_c = {np.shape(horse_truck_classes)}\")\n",
    "\n",
    "print(f\"+       {np.shape(np.zeros(len(truck_data)))}\")\n",
    "horse_truck_classes = np.append(horse_truck_classes, np.ones(len(truck_data)))\n",
    "print(f\"H&T_c = {np.shape(horse_truck_classes)}\")"
   ]
  },
  {
   "cell_type": "markdown",
   "metadata": {
    "pycharm": {
     "name": "#%% md\n"
    }
   },
   "source": [
    "Converting the RGB images to grayscale and showing examples."
   ]
  },
  {
   "cell_type": "code",
   "execution_count": 25,
   "metadata": {
    "pycharm": {
     "name": "#%%\n"
    }
   },
   "outputs": [
    {
     "name": "stdout",
     "output_type": "stream",
     "text": [
      "(1982, 32, 32)\n"
     ]
    },
    {
     "data": {
      "image/png": "[encoded data removed]",
      "text/plain": [
       "<Figure size 432x288 with 1 Axes>"
      ]
     },
     "metadata": {
      "needs_background": "light"
     },
     "output_type": "display_data"
    },
    {
     "data": {
      "image/png": "[encoded data removed]",
      "text/plain": [
       "<Figure size 432x288 with 1 Axes>"
      ]
     },
     "metadata": {
      "needs_background": "light"
     },
     "output_type": "display_data"
    }
   ],
   "source": [
    "horse_truck_data_grayscale = np.sum(horse_truck_data, axis=1) / 3\n",
    "print(np.shape(horse_truck_data_grayscale))\n",
    "\n",
    "plt.imshow(horse_truck_data_grayscale[0], cmap='gray')\n",
    "plt.show()\n",
    "\n",
    "plt.imshow(horse_truck_data_grayscale[1001], cmap='gray')\n",
    "plt.show()"
   ]
  },
  {
   "cell_type": "code",
   "execution_count": 26,
   "metadata": {
    "pycharm": {
     "name": "#%%\n"
    }
   },
   "outputs": [
    {
     "data": {
      "text/plain": [
       "(1982, 1024)"
      ]
     },
     "execution_count": 26,
     "metadata": {},
     "output_type": "execute_result"
    }
   ],
   "source": [
    "horse_truck_data_grayscale.shape = (len(horse_truck_data_grayscale), 1024)\n",
    "np.shape(horse_truck_data_grayscale)"
   ]
  },
  {
   "cell_type": "markdown",
   "metadata": {
    "pycharm": {
     "name": "#%% md\n"
    }
   },
   "source": [
    "Splitting the data into `[\"training\"]`, `[\"validation\"]` and `[\"testing\"]`."
   ]
  },
  {
   "cell_type": "code",
   "execution_count": 27,
   "metadata": {
    "pycharm": {
     "name": "#%%\n"
    }
   },
   "outputs": [],
   "source": [
    "data[\"horse_truck\"] = shuffle_and_split(horse_truck_data_grayscale, horse_truck_classes, validation_split=0.7, test_split=0.15)"
   ]
  },
  {
   "cell_type": "markdown",
   "metadata": {
    "pycharm": {
     "name": "#%% md\n"
    }
   },
   "source": [
    "Training a shallow net on the `horse_truck` data."
   ]
  },
  {
   "cell_type": "code",
   "execution_count": 28,
   "metadata": {
    "pycharm": {
     "name": "#%%\n"
    }
   },
   "outputs": [
    {
     "name": "stdout",
     "output_type": "stream",
     "text": [
      "Stopped after 5421 iterations\n"
     ]
    }
   ],
   "source": [
    "snn_horse_truck = ShallowNetwork()\n",
    "snn_horse_truck.train(data[\"horse_truck\"][\"training\"][\"input\"], data[\"horse_truck\"][\"training\"][\"classes\"],\n",
    "                  k=20, alpha=0.1, iterations=30_000,\n",
    "                  stop_early=True, stop_avg_loss=0.01, n_loss_avg=5)"
   ]
  },
  {
   "cell_type": "markdown",
   "metadata": {
    "pycharm": {
     "name": "#%% md\n"
    }
   },
   "source": [
    "Testing the shallow net."
   ]
  },
  {
   "cell_type": "code",
   "execution_count": 29,
   "metadata": {
    "pycharm": {
     "name": "#%%\n"
    }
   },
   "outputs": [
    {
     "name": "stdout",
     "output_type": "stream",
     "text": [
      "Accuracy = 0.7583892617449665\n"
     ]
    }
   ],
   "source": [
    "correct = 0\n",
    "for dp, label in zip(data[\"horse_truck\"][\"testing\"][\"input\"], data[\"horse_truck\"][\"testing\"][\"classes\"]):\n",
    "    a = snn_horse_truck.predict(dp)\n",
    "\n",
    "    if round(a[0]) == label:\n",
    "        correct += 1\n",
    "\n",
    "print(f\"Accuracy = {correct / len(data['horse_truck']['testing']['classes'])}\")"
   ]
  },
  {
   "cell_type": "code",
   "execution_count": 30,
   "metadata": {
    "pycharm": {
     "name": "#%%\n"
    }
   },
   "outputs": [
    {
     "name": "stdout",
     "output_type": "stream",
     "text": [
      "Accuracy = 0.7609427609427609\n"
     ]
    }
   ],
   "source": [
    "correct = 0\n",
    "for dp, label in zip(data[\"horse_truck\"][\"validation\"][\"input\"], data[\"horse_truck\"][\"validation\"][\"classes\"]):\n",
    "    a = snn_horse_truck.predict(dp)\n",
    "\n",
    "    if round(a[0]) == label:\n",
    "        correct += 1\n",
    "\n",
    "print(f\"Accuracy = {correct / len(data['horse_truck']['validation']['classes'])}\")"
   ]
  },
  {
   "cell_type": "markdown",
   "metadata": {
    "pycharm": {
     "name": "#%% md\n"
    }
   },
   "source": [
    "It performs very well. Even better than the deep neural network without any improvements."
   ]
  },
  {
   "cell_type": "markdown",
   "metadata": {
    "pycharm": {
     "name": "#%% md\n"
    }
   },
   "source": [
    "## Part 5 - Mathematics"
   ]
  },
  {
   "cell_type": "markdown",
   "metadata": {
    "pycharm": {
     "name": "#%% md\n"
    }
   },
   "source": [
    "Self made image from my old assignment [github](https://github.com/jaroslawjanas/NN-Perceptron/tree/master/maths)\n",
    "which was based on [3blue1brown](https://youtube.com/playlist?list=PLZHQObOWTQDNU6R1_67000Dx_ZCJB-3pi) neural networks playlist\n",
    "![DNN Tree](https://i.imgur.com/euAGKgQ.png)"
   ]
  },
  {
   "cell_type": "markdown",
   "metadata": {
    "pycharm": {
     "name": "#%% md\n"
    }
   },
   "source": [
    "\\begin{array}\n",
    "\\\\\n",
    "\\text{-------- Functions --------}\n",
    "\\\\\n",
    "C_{0} = - (y \\ln (a) + (1-y) \\ln (1-a))\n",
    "\\\\\n",
    "a^{(L)} = \\sigma (z^{(L)})\n",
    "\\\\\n",
    "z^{(L)} = w^{(L)} a^{(L-1)} + b\n",
    "\\\\\n",
    "\\sigma(z) = \\frac{1}{1 + e^{-x}}\n",
    "\\end{array}"
   ]
  },
  {
   "cell_type": "markdown",
   "metadata": {},
   "source": [
    "\\begin{array}\n",
    "\\\\\n",
    "\\text{-------- Derivatives of Functions --------}\n",
    "\\\\\n",
    "\\frac{\\partial C_{0}}{\\partial a^{(L)}} = \\frac{a - y}{a(1-a)}\n",
    "\\\\\n",
    "\\frac{\\partial a^{(L)}}{\\partial z^{(L)}} = \\sigma \\prime (z^{(L)})\n",
    "\\\\\n",
    "\\sigma \\prime = \\frac{e^{-z}}{(1 + e^{-z})^{2}}\n",
    "\\\\\n",
    "\\frac{\\partial C_{0}}{\\partial z^{(L)}} = \\frac{\\partial C_{0}}{\\partial a^{(L)}} \\frac{\\partial a^{(L)}}{\\partial z^{(L)}}\n",
    "\\\\\n",
    "\\frac{\\partial C_{0}}{\\partial z^{(L)}} = a^{(L)} - y\n",
    "\\\\\n",
    "\\frac{\\partial z^{(L)}}{\\partial w^{(L)}} = a^{(L-1)}\n",
    "\\\\\n",
    "\\frac{\\partial z^{(L)}}{\\partial a^{(L-1)}} = w^{(L)}\n",
    "\\\\\n",
    "\\frac{\\partial z^{(L)}}{\\partial b^{(L)}} = 1\n",
    "\\\\\n",
    "\\sigma(z) = \\frac{1}{1 + e^{-x}}\n",
    "\\end{array}"
   ]
  },
  {
   "cell_type": "markdown",
   "metadata": {},
   "source": [
    "\\begin{array}\n",
    "\\\\\n",
    "\\text{-------- Output Layer --------}\\\\\n",
    "\\\\\n",
    "\\frac{\\partial C_{0}}{\\partial w^{(L)}} =\\ \\frac{\\partial C_{0}}{\\partial a^{(L)}} \\ \\frac{\\partial a^{(L)}}{\\partial z^{(L)}} \\ \\frac{\\partial z^{(L)}}{\\partial w^{(L)}}\\\\\n",
    "\\\\\n",
    "\\frac{\\partial C_{0}}{\\partial b^{(L)}} \\ =\\frac{\\partial C_{0}}{\\partial a^{(L)}} \\ \\frac{\\partial a^{(L)}}{\\partial z^{(L)}} \\ \\frac{\\partial z^{(L)}}{\\partial b^{(L)}}\\\\\n",
    "\\\\\n",
    "\\frac{\\partial C_{0}}{\\partial a^{(L-1)}} =\\frac{\\partial C_{0}}{\\partial a^{(L)}} \\ \\frac{\\partial a^{(L)}}{\\partial z^{(L)}} \\ \\frac{\\partial z^{(L)}}{\\partial a^{(L-1)}}\\\\\n",
    "\\\\\n",
    "\\text{Note the common element}\\\\\n",
    "\\\\\n",
    "\\frac{\\partial C_{0}}{\\partial z^{(L)}} \\ =\\frac{\\partial C_{0}}{\\partial a^{(L)}} \\ \\frac{\\partial a^{(L)}}{\\partial z^{(L)}}\\\\\n",
    "\\\\\n",
    "\\text{Hence}\\\\\n",
    "\\\\\n",
    "\\frac{\\partial C_{0}}{\\partial w^{(L)}} =\\ \\frac{\\partial C_{0}}{\\partial z^{(L)}} \\ \\frac{\\partial z^{(L)}}{\\partial w^{(L)}}\\\\\n",
    "\\\\\n",
    "\\frac{\\partial C_{0}}{\\partial b^{(L)}} \\ =\\frac{\\partial C_{0}}{\\partial z^{(L)}} \\ \\frac{\\partial z^{(L)}}{\\partial b^{(L)}}\\\\\n",
    "\\\\\n",
    "\\frac{\\partial C_{0}}{\\partial a^{(L-1)}} =\\frac{\\partial C_{0}}{\\partial z^{(L)}} \\ \\frac{\\partial z^{(L)}}{\\partial a^{(L-1)}}\\\\\n",
    "\\\\\n",
    "\\text{Substituting for derivatives from \"Derivatives of Functions\"}\\\\\n",
    "\\\\\n",
    "\\frac{\\partial C_{0}}{\\partial z^{(L)}} = a^{(L)} - y\n",
    "\\\\\n",
    "\\frac{\\partial C_{0}}{\\partial w^{(L)}} \\ =\\ \\frac{\\partial C_{0}}{\\partial z^{(L)}} \\ a^{(L-1)}\\\\\n",
    "\\\\\n",
    "\\frac{\\partial C_{0}}{\\partial b^{(L)}} =\\frac{\\partial C_{0}}{\\partial z^{(L)}} \\ 1\\\\\n",
    "\\\\\n",
    "\\frac{\\partial C_{0}}{\\partial a^{(L-1)}} =\\frac{\\partial C_{0}}{\\partial z^{(L)}} \\ w^{(L)}\\\\\n",
    "\\\\\n",
    "\\end{array}"
   ]
  },
  {
   "cell_type": "markdown",
   "metadata": {
    "pycharm": {
     "name": "#%% md\n"
    }
   },
   "source": [
    "\\begin{array}\n",
    "\\\\\n",
    "\\text{-------- Hidden Layers --------}\\\\\n",
    "\\\\\n",
    "\\frac{\\partial C_{0}}{\\partial w^{(L-1)}} =\\ \\frac{\\partial C_{0}}{\\partial a^{(L-1)}} \\ \\frac{\\partial a^{(L-1)}}{\\partial z^{(L-1)}} \\ \\frac{\\partial z^{(L-1)}}{\\partial w^{(L-1)}}\\\\\n",
    "\\\\\n",
    "\\frac{\\partial C_{0}}{\\partial b^{(L-1)}} =\\ \\frac{\\partial C_{0}}{\\partial a^{(L-1)}} \\ \\frac{\\partial a^{(L-1)}}{\\partial z^{(L-1)}} \\ \\frac{\\partial z^{(L-1)}}{\\partial b^{(L-1)}}\\\\\n",
    "\\\\\n",
    "\\frac{\\partial C_{0}}{\\partial w^{(L-2)}} =\\ \\frac{\\partial C_{0}}{\\partial a^{(L-1)}} \\ \\frac{\\partial a^{(L-1)}}{\\partial z^{(L-1)}} \\ \\frac{\\partial z^{(L-1)}}{\\partial w^{(L-2)}}\\\\\n",
    "\\\\\n",
    "\\text{Note the common element}\\\\\n",
    "\\\\\n",
    "\\frac{\\partial C_{0}}{\\partial z^{(L-1)}} =\\frac{\\partial C_{0}}{\\partial a^{(L-1)}} \\ \\frac{\\partial a^{(L-1)}}{\\partial z^{(L-1)}}\\\\\n",
    "\\\\\n",
    "\\text{Hence}\\\\\n",
    "\\\\\n",
    "\\frac{\\partial C_{0}}{\\partial w^{(L-1)}} =\\ \\frac{\\partial C_{0}}{\\partial z^{(L-1)}} \\ \\frac{\\partial z^{(L-1)}}{\\partial w^{(L-1)}}\\\\\n",
    "\\\\\n",
    "\\frac{\\partial C_{0}}{\\partial b^{(L-1)}} =\\ \\frac{\\partial C_{0}}{\\partial z^{(L-1)}} \\ \\frac{\\partial z^{(L-1)}}{\\partial b^{(L-1)}}\\\\\n",
    "\\\\\n",
    "\\frac{\\partial C_{0}}{\\partial w^{(L-2)}} =\\ \\frac{\\partial C_{0}}{\\partial z^{(L-1)}} \\ \\frac{\\partial z^{(L-1)}}{\\partial w^{(L-2)}}\\\\\n",
    "\\\\\n",
    "\\text{Substituting for derivatives from \"Derivatives of Functions\"}\\\\\n",
    "\\\\\n",
    "\\frac{\\partial C_{0}}{\\partial z^{(L-1)}} =\\ \\frac{\\partial C_{0}}{\\partial a^{(L-1)}} \\ \\sigma \\prime (z^{(L-1)})\\\\\n",
    "\\\\\n",
    "\\frac{\\partial C_{0}}{\\partial w^{(L-1)}} =\\ \\frac{\\partial C_{0}}{\\partial z^{(L-1)}} \\ a^{(L-2)}\\\\\n",
    "\\\\\n",
    "\\frac{\\partial C_{0}}{\\partial b^{(L-1)}} =\\ \\frac{\\partial C_{0}}{\\partial z^{(L-1)}} \\ 1\\\\\n",
    "\\\\\n",
    "\\frac{\\partial C_{0}}{\\partial w^{(L-2)}} =\\ \\frac{\\partial C_{0}}{\\partial z^{(L-1)}} \\ w^{(L-1)}\\\\\n",
    "\\end{array}"
   ]
  },
  {
   "cell_type": "markdown",
   "metadata": {
    "pycharm": {
     "name": "#%% md\n"
    }
   },
   "source": [
    "## Part 5 - Deep Neural Network"
   ]
  },
  {
   "cell_type": "markdown",
   "metadata": {},
   "source": [
    "I tried to make my DNN fairly modular. That's why some functions can be passed as inputs.\n",
    "I had to derive `dL/da` (the loss with respect to activation) myself in order to allow for custom activation function in the output layer.\n",
    "I am not including the mathematics behind `dL/da` of the loss function because it's long.\n",
    "\n",
    "Additionally, some transposes used in the back-propagation were taken from [here](https://sudeepraja.github.io/Neural/).\n",
    "\n",
    "I had some problems with sigmoid `np.exp(-x)` causing overflow so I separated it into two functions as recommended [here](https://shaktiwadekar.medium.com/how-to-avoid-numerical-overflow-in-sigmoid-function-numerically-stable-sigmoid-function-5298b14720f6). Vectorizing it was quite difficult.\n",
    "Ah yes, and I did vectorize forward propagation.\n",
    "\n",
    "Note that normalize operates with respect to particular input, different normalizer will be created for `x` and `y` in `[[x0, y0], [x1, y1], [x2, y2]]`.\n",
    "\n",
    "Also at this point I also decided to implement early stopping which I later also put in the ShallowNetwork implementation."
   ]
  },
  {
   "cell_type": "code",
   "execution_count": 31,
   "metadata": {
    "pycharm": {
     "name": "#%%\n"
    }
   },
   "outputs": [],
   "source": [
    "class DeepNetwork:\n",
    "    epsilon = sys.float_info.epsilon\n",
    "\n",
    "    def __init__(self):\n",
    "        self.input_size = []\n",
    "        self.k = []\n",
    "        self.weights = []\n",
    "        self.biases = []\n",
    "        self.activation = []\n",
    "        self.activation_derivative = []\n",
    "        self.loss_function = None\n",
    "        self.normalizer = None\n",
    "\n",
    "\n",
    "    @staticmethod\n",
    "    def weights_init(size):\n",
    "        # Based on xavier initialization\n",
    "        # https://machinelearningmastery.com/weight-initialization-for-deep-learning-neural-networks/\n",
    "        # n = 1\n",
    "        # if len(size) > 1:\n",
    "        #     n = size[1]\n",
    "        # return np.random.uniform(-1/math.sqrt(n), 1/math.sqrt(n), size)\n",
    "        return np.random.normal(0, 0.2, size)\n",
    "\n",
    "    @staticmethod\n",
    "    def biases_init(size):\n",
    "        return np.random.normal(0, 0.2, size)\n",
    "\n",
    "    # Because of overflow\n",
    "    # as explained here\n",
    "    # https://shaktiwadekar.medium.com/how-to-avoid-numerical-overflow-in-sigmoid-function-numerically-stable-sigmoid-function-5298b14720f6\n",
    "    @staticmethod\n",
    "    def sigmoid(x):\n",
    "        return np.where(x >= 0, (1 / (1 + np.exp(-x))), (np.exp(x) / (1 + np.exp(x))) )\n",
    "         # return 1 / (1 + np.exp(-x))\n",
    "\n",
    "    @staticmethod\n",
    "    def sigmoid_derivative(x):\n",
    "        return DeepNetwork.sigmoid(x) * (1 - DeepNetwork.sigmoid(x))\n",
    "\n",
    "    @staticmethod\n",
    "    def relu(x):\n",
    "        return max(0, x)\n",
    "\n",
    "    # Taken from https://stackoverflow.com/questions/46411180/implement-relu-derivative-in-python-numpy\n",
    "    @staticmethod\n",
    "    def relu_derivative(x):\n",
    "        return (x > 0) * 1\n",
    "\n",
    "    @staticmethod\n",
    "    def logistic_loss(a, y):\n",
    "        return - (y * math.log(a + DeepNetwork.epsilon) + (1 - y) * math.log(1 - a + DeepNetwork.epsilon))\n",
    "\n",
    "    # Proper transpose, not this numpy BS\n",
    "    @staticmethod\n",
    "    def transpose(x):\n",
    "        if len(np.shape(x)) == 1:\n",
    "            return x.reshape(1, -1)\n",
    "        return np.transpose(x)\n",
    "\n",
    "    @staticmethod\n",
    "    def one_d_always_two_d(x):\n",
    "        if len(np.shape(x)) == 1:\n",
    "            return x[:, np.newaxis]\n",
    "        else:\n",
    "            return x\n",
    "\n",
    "    # Based on https://en.wikipedia.org/wiki/Feature_scaling\n",
    "    @staticmethod\n",
    "    def normalize(x, x_min, x_max, new_min=-1, new_max=1):\n",
    "        return ((x - x_min) / (x_max - x_min)) * (new_max - new_min) + new_min\n",
    "\n",
    "    @staticmethod\n",
    "    def normalizer_constructor (data, normalize):\n",
    "        t_data = DeepNetwork.transpose(data)\n",
    "        x_min = []\n",
    "        x_max = []\n",
    "        for d_vector in t_data:\n",
    "            x_min.append(min(d_vector))\n",
    "            x_max.append(max(d_vector))\n",
    "\n",
    "        return lambda x: np.array([normalize(xx, x_min[idx], x_max[idx]) for idx, xx in enumerate(x)])\n",
    "\n",
    "\n",
    "    def add_layer(self, k, weights_init = None,\n",
    "                 biases_init = None,\n",
    "                 activation = None,\n",
    "                 activation_derivative = None,\n",
    "                 input_size = None\n",
    "                 ):\n",
    "\n",
    "        if weights_init is None:\n",
    "            weights_init = DeepNetwork.weights_init\n",
    "\n",
    "        if biases_init is None:\n",
    "            biases_init = DeepNetwork.biases_init\n",
    "\n",
    "        if activation is None:\n",
    "            activation = DeepNetwork.sigmoid\n",
    "\n",
    "        if activation_derivative is None:\n",
    "            activation_derivative = DeepNetwork.sigmoid_derivative\n",
    "\n",
    "        if len(self.input_size) == 0 and input_size is None:\n",
    "            raise Exception(\"You are creating an input layer and did not provide input size\")\n",
    "        elif len(self.k) > 0:\n",
    "            input_size = self.k[-1]\n",
    "\n",
    "        self.k.append(k)\n",
    "        self.input_size.append(input_size)\n",
    "        self.weights.append(weights_init((k, input_size)))\n",
    "        self.biases.append(biases_init((k,)))\n",
    "        self.activation.append(np.vectorize(activation))\n",
    "        self.activation_derivative.append(np.vectorize(activation_derivative))\n",
    "\n",
    "    def train(self, data, labels, alpha=0.01, stop_early=False, stop_avg_loss=0.01, n_loss_avg=10,\n",
    "              iterations=None,\n",
    "              loss_function=None,\n",
    "              normalize=None\n",
    "              ):\n",
    "\n",
    "        if iterations is None:\n",
    "            iterations = len(data)\n",
    "\n",
    "        if loss_function is None:\n",
    "            loss_function = DeepNetwork.logistic_loss\n",
    "\n",
    "        if normalize is None:\n",
    "            normalize = DeepNetwork.normalize\n",
    "\n",
    "        self.loss_function = np.vectorize(loss_function)\n",
    "        alpha = float(alpha)\n",
    "        self.normalizer = DeepNetwork.normalizer_constructor(data, normalize)\n",
    "\n",
    "        losses = []\n",
    "        for iter in range(iterations):\n",
    "            [dp, label] = random.choice(list((zip(data, labels))))\n",
    "\n",
    "            a, z = self.f_propagate(dp)\n",
    "            if stop_early:\n",
    "                loss = self.loss_function(a[-1], label)[0]\n",
    "                if len(losses) == n_loss_avg:\n",
    "                    avg_loss = sum(losses) / len(losses)\n",
    "                    if avg_loss < stop_avg_loss:\n",
    "                        print(f\"Stopped after {iter} iterations\")\n",
    "                        break\n",
    "                losses.append(loss)\n",
    "                losses = losses[-n_loss_avg:]\n",
    "\n",
    "            # Based on my old assignment https://github.com/jaroslawjanas/NN-Perceptron\n",
    "            # (math is included in the repo https://github.com/jaroslawjanas/NN-Perceptron/tree/master/maths) which\n",
    "            # is based on this playlist of videos https://youtube.com/playlist?list=PLZHQObOWTQDNU6R1_67000Dx_ZCJB-3pi\n",
    "            # and partially based on https://sudeepraja.github.io/Neural/\n",
    "\n",
    "            # I also finally bothered to do the derivatives\n",
    "\n",
    "            # Was going to build a loop for this but I have to build one for part 5 anyway\n",
    "            # So I am not going to bother\n",
    "\n",
    "            dL_da_mn = None\n",
    "            for i in range(1, len(self.k)):\n",
    "\n",
    "                if(i == 1):\n",
    "                    # Output layer\n",
    "\n",
    "                    # dL_dz = a[-i] - label  # <-- This is faster because it's mathematically simplified\n",
    "                    # dL_da = (a[-i] - label) / ((a[-i] * (1 - a[-i])) + DeepNetwork.epsilon) # this is ugly\n",
    "\n",
    "                    # this avoids division by 0\n",
    "                    if (a[-i] * (1 - a[-i])) == 0:\n",
    "                        dL_da = (a[-i] - label) / DeepNetwork.epsilon\n",
    "                    else:\n",
    "                        dL_da = (a[-i] - label) / (a[-i] * (1 - a[-i]))\n",
    "\n",
    "                    da_dz = self.activation_derivative[-i](z[-i])\n",
    "                    dL_dz = dL_da *  da_dz # <-- but this is more flexible, I can specify my own activation for output layer\n",
    "                    dz_dw = a[-(i+1)]  # previous layer\n",
    "                    dz_db = 1\n",
    "                    dz_da_m1 = self.weights[-i]\n",
    "\n",
    "\n",
    "                    dL_dw = dL_dz.dot(DeepNetwork.transpose(dz_dw))\n",
    "                    dL_db = dL_dz * dz_db\n",
    "                    dL_da_mn = DeepNetwork.transpose(dz_da_m1).dot(dL_dz) # this line is based on https://sudeepraja.github.io/Neural/\n",
    "\n",
    "                    self.weights[-i] -= alpha * dL_dw\n",
    "                    self.biases[-i] -= alpha * dL_db\n",
    "\n",
    "                else:\n",
    "                    # Hidden Layers\n",
    "\n",
    "                    da_m1_dz_m1 = self.activation_derivative[-i](z[-i])\n",
    "                    dL_dz_m1 = dL_da_mn * da_m1_dz_m1\n",
    "                    dz_m1_dw_m1 = a[-(i+1)]\n",
    "                    dz_m1_db_m1 = 1\n",
    "                    if i is not len(self.k):\n",
    "                        dz_m1_da_m2 = self.weights[-i]\n",
    "\n",
    "                    # dL_dw_m1 = dL_dz_m1[:,np.newaxis].dot(DeepNetwork.transpose(dz_m1_dw_m1))\n",
    "                    dL_dw_m1 = DeepNetwork.one_d_always_two_d(dL_dz_m1).dot(DeepNetwork.transpose(dz_m1_dw_m1))\n",
    "                    # above line is based on https://sudeepraja.github.io/Neural/\n",
    "                    dL_db_m1 = dL_dz_m1 * dz_m1_db_m1\n",
    "\n",
    "                    if i is not len(self.k):\n",
    "                        dL_da_mn = DeepNetwork.transpose(dz_m1_da_m2).dot(dL_dz_m1)\n",
    "\n",
    "                    self.weights[-i] -= alpha * dL_dw_m1\n",
    "                    self.biases[-i] -= alpha * dL_db_m1\n",
    "\n",
    "    def f_propagate(self, in_dp):\n",
    "        norm_in_dp = self.normalizer(in_dp)\n",
    "        a = [norm_in_dp]\n",
    "        zz = []\n",
    "        for weights, biases, activation in zip(self.weights, self.biases, self.activation):\n",
    "\n",
    "            z = np.dot(weights, a[-1]) + biases\n",
    "            zz = zz + [z]\n",
    "            a = a + [activation(z)]\n",
    "\n",
    "        return a, zz\n",
    "\n",
    "    def predict(self, in_dp):\n",
    "        a, _ = self.f_propagate(in_dp)\n",
    "        return a[-1]"
   ]
  },
  {
   "cell_type": "markdown",
   "metadata": {
    "pycharm": {
     "name": "#%% md\n"
    }
   },
   "source": [
    "### Blobs"
   ]
  },
  {
   "cell_type": "code",
   "execution_count": 32,
   "metadata": {
    "pycharm": {
     "name": "#%%\n"
    }
   },
   "outputs": [
    {
     "name": "stdout",
     "output_type": "stream",
     "text": [
      "Stopped after 15727 iterations\n"
     ]
    }
   ],
   "source": [
    "dnn_blobs = DeepNetwork()\n",
    "dnn_blobs.add_layer(10, input_size=len(data[\"blobs\"][\"training\"][\"input\"][0]), activation=DeepNetwork.relu, activation_derivative=DeepNetwork.relu_derivative)\n",
    "dnn_blobs.add_layer(1)\n",
    "\n",
    "dnn_blobs.train(data[\"blobs\"][\"training\"][\"input\"], data[\"blobs\"][\"training\"][\"classes\"],\n",
    "                alpha=0.05, iterations=50_000,\n",
    "                stop_early=True, stop_avg_loss=0.005, n_loss_avg=5)"
   ]
  },
  {
   "cell_type": "code",
   "execution_count": 33,
   "metadata": {
    "pycharm": {
     "name": "#%%\n"
    }
   },
   "outputs": [
    {
     "name": "stdout",
     "output_type": "stream",
     "text": [
      "Accuracy = 0.9333333333333333\n"
     ]
    }
   ],
   "source": [
    "correct = 0\n",
    "for dp, label in zip(data[\"blobs\"][\"testing\"][\"input\"], data[\"blobs\"][\"testing\"][\"classes\"]):\n",
    "    a = dnn_blobs.predict(dp)\n",
    "\n",
    "    if round(a[0]) == label:\n",
    "        correct += 1\n",
    "\n",
    "print(f\"Accuracy = {correct / len(data['blobs']['testing']['classes'])}\")"
   ]
  },
  {
   "cell_type": "code",
   "execution_count": 34,
   "metadata": {
    "pycharm": {
     "name": "#%%\n"
    }
   },
   "outputs": [
    {
     "name": "stdout",
     "output_type": "stream",
     "text": [
      "Accuracy = 0.9555555555555556\n"
     ]
    }
   ],
   "source": [
    "correct = 0\n",
    "for dp, label in zip(data[\"blobs\"][\"validation\"][\"input\"], data[\"blobs\"][\"validation\"][\"classes\"]):\n",
    "    a = dnn_blobs.predict(dp)\n",
    "\n",
    "    if round(a[0]) == label:\n",
    "        correct += 1\n",
    "\n",
    "print(f\"Accuracy = {correct / len(data['blobs']['validation']['classes'])}\")"
   ]
  },
  {
   "cell_type": "markdown",
   "metadata": {},
   "source": [
    "### Circles"
   ]
  },
  {
   "cell_type": "code",
   "execution_count": 51,
   "metadata": {
    "pycharm": {
     "name": "#%%\n"
    }
   },
   "outputs": [
    {
     "name": "stdout",
     "output_type": "stream",
     "text": [
      "Stopped after 3684 iterations\n"
     ]
    }
   ],
   "source": [
    "dnn_circles = DeepNetwork()\n",
    "dnn_circles.add_layer(32, input_size=len(data[\"circles\"][\"training\"][\"input\"][0]), activation=DeepNetwork.relu, activation_derivative=DeepNetwork.relu_derivative)\n",
    "dnn_circles.add_layer(16)\n",
    "dnn_circles.add_layer(1)\n",
    "\n",
    "dnn_circles.train(data[\"circles\"][\"training\"][\"input\"], data[\"circles\"][\"training\"][\"classes\"],\n",
    "                  alpha=0.15, iterations=20_000,\n",
    "                  stop_early=True, stop_avg_loss=0.005, n_loss_avg=5)"
   ]
  },
  {
   "cell_type": "code",
   "execution_count": 52,
   "metadata": {
    "pycharm": {
     "name": "#%%\n"
    }
   },
   "outputs": [
    {
     "name": "stdout",
     "output_type": "stream",
     "text": [
      "Accuracy = 1.0\n"
     ]
    }
   ],
   "source": [
    "correct = 0\n",
    "for dp, label in zip(data[\"circles\"][\"testing\"][\"input\"], data[\"circles\"][\"testing\"][\"classes\"]):\n",
    "    a = dnn_circles.predict(dp)\n",
    "\n",
    "    if round(a[0]) == label:\n",
    "        correct += 1\n",
    "\n",
    "print(f\"Accuracy = {correct / len(data['circles']['testing']['classes'])}\")"
   ]
  },
  {
   "cell_type": "code",
   "execution_count": 53,
   "metadata": {
    "pycharm": {
     "name": "#%%\n"
    }
   },
   "outputs": [
    {
     "name": "stdout",
     "output_type": "stream",
     "text": [
      "Accuracy = 1.0\n"
     ]
    }
   ],
   "source": [
    "correct = 0\n",
    "for dp, label in zip(data[\"circles\"][\"validation\"][\"input\"], data[\"circles\"][\"validation\"][\"classes\"]):\n",
    "    a = dnn_circles.predict(dp)\n",
    "\n",
    "    if round(a[0]) == label:\n",
    "        correct += 1\n",
    "\n",
    "print(f\"Accuracy = {correct / len(data['circles']['validation']['classes'])}\")"
   ]
  },
  {
   "cell_type": "markdown",
   "metadata": {
    "pycharm": {
     "name": "#%% md\n"
    }
   },
   "source": [
    "### Horse Truck"
   ]
  },
  {
   "cell_type": "code",
   "execution_count": 38,
   "metadata": {
    "pycharm": {
     "name": "#%%\n"
    }
   },
   "outputs": [
    {
     "name": "stdout",
     "output_type": "stream",
     "text": [
      "Stopped after 22143 iterations\n"
     ]
    }
   ],
   "source": [
    "dnn_horse_truck = DeepNetwork()\n",
    "dnn_horse_truck.add_layer(256, input_size=len(data[\"horse_truck\"][\"training\"][\"input\"][0]), activation=DeepNetwork.relu, activation_derivative=DeepNetwork.relu_derivative)\n",
    "dnn_horse_truck.add_layer(64, activation=DeepNetwork.relu, activation_derivative=DeepNetwork.relu_derivative)\n",
    "dnn_horse_truck.add_layer(32)\n",
    "dnn_horse_truck.add_layer(1)\n",
    "\n",
    "dnn_horse_truck.train(data[\"horse_truck\"][\"training\"][\"input\"], data[\"horse_truck\"][\"training\"][\"classes\"],\n",
    "                  # alpha=0.05, iterations=40_000,\n",
    "                  alpha=0.005, iterations=40_000,\n",
    "                  stop_early=True, stop_avg_loss=0.005, n_loss_avg=5)"
   ]
  },
  {
   "cell_type": "code",
   "execution_count": 39,
   "metadata": {
    "pycharm": {
     "name": "#%%\n"
    }
   },
   "outputs": [
    {
     "name": "stdout",
     "output_type": "stream",
     "text": [
      "Accuracy = 0.7651006711409396\n"
     ]
    }
   ],
   "source": [
    "correct = 0\n",
    "for dp, label in zip(data[\"horse_truck\"][\"testing\"][\"input\"], data[\"horse_truck\"][\"testing\"][\"classes\"]):\n",
    "    a = dnn_horse_truck.predict(dp)\n",
    "\n",
    "    if round(a[0]) == label:\n",
    "        correct += 1\n",
    "\n",
    "print(f\"Accuracy = {correct / len(data['horse_truck']['testing']['classes'])}\")"
   ]
  },
  {
   "cell_type": "code",
   "execution_count": 40,
   "metadata": {
    "pycharm": {
     "name": "#%%\n"
    }
   },
   "outputs": [
    {
     "name": "stdout",
     "output_type": "stream",
     "text": [
      "Accuracy = 0.7676767676767676\n"
     ]
    }
   ],
   "source": [
    "correct = 0\n",
    "for dp, label in zip(data[\"horse_truck\"][\"validation\"][\"input\"], data[\"horse_truck\"][\"validation\"][\"classes\"]):\n",
    "    a = dnn_horse_truck.predict(dp)\n",
    "\n",
    "    if round(a[0]) == label:\n",
    "        correct += 1\n",
    "\n",
    "print(f\"Accuracy = {correct / len(data['horse_truck']['validation']['classes'])}\")"
   ]
  },
  {
   "cell_type": "markdown",
   "metadata": {
    "pycharm": {
     "name": "#%% md\n"
    }
   },
   "source": [
    "## Part 5 - DNN Mini batch"
   ]
  },
  {
   "cell_type": "markdown",
   "metadata": {
    "pycharm": {
     "name": "#%% md\n"
    }
   },
   "source": [
    "Mini-batch changes weights after each mini-batch rather than each case.\n",
    "The advantage of this is that it can be parallelized (which can't be done easily on python unfortunately).\n",
    "\n",
    "Another advantage is that it only updates the weights every `n/mbatch_size` times and as `n` increases in sized the performance benefits become more visible."
   ]
  },
  {
   "cell_type": "code",
   "execution_count": 41,
   "metadata": {
    "pycharm": {
     "name": "#%%\n"
    }
   },
   "outputs": [],
   "source": [
    "class MiniBatchDeepNetwork:\n",
    "    epsilon = sys.float_info.epsilon\n",
    "\n",
    "    def __init__(self):\n",
    "        self.input_size = []\n",
    "        self.k = []\n",
    "        self.weights = []\n",
    "        self.biases = []\n",
    "        self.activation = []\n",
    "        self.activation_derivative = []\n",
    "        self.loss_function = None\n",
    "        self.normalizer = None\n",
    "\n",
    "\n",
    "    @staticmethod\n",
    "    def weights_init(size):\n",
    "        # Based on xavier initialization\n",
    "        # https://machinelearningmastery.com/weight-initialization-for-deep-learning-neural-networks/\n",
    "        # n = 1\n",
    "        # if len(size) > 1:\n",
    "        #     n = size[1]\n",
    "        # return np.random.uniform(-1/math.sqrt(n), 1/math.sqrt(n), size)\n",
    "        return np.random.normal(0, 0.2, size)\n",
    "\n",
    "    @staticmethod\n",
    "    def biases_init(size):\n",
    "        return np.random.normal(0, 0.2, size)\n",
    "\n",
    "    # Because of overflow\n",
    "    # as explained here\n",
    "    # https://shaktiwadekar.medium.com/how-to-avoid-numerical-overflow-in-sigmoid-function-numerically-stable-sigmoid-function-5298b14720f6\n",
    "    @staticmethod\n",
    "    def sigmoid(x):\n",
    "        return np.where(x >= 0, (1 / (1 + np.exp(-x))), (np.exp(x) / (1 + np.exp(x))) )\n",
    "         # return 1 / (1 + np.exp(-x))\n",
    "\n",
    "    @staticmethod\n",
    "    def sigmoid_derivative(x):\n",
    "        return MiniBatchDeepNetwork.sigmoid(x) * (1 - MiniBatchDeepNetwork.sigmoid(x))\n",
    "\n",
    "    @staticmethod\n",
    "    def relu(x):\n",
    "        return max(0, x)\n",
    "\n",
    "    # Taken from https://stackoverflow.com/questions/46411180/implement-relu-derivative-in-python-numpy\n",
    "    @staticmethod\n",
    "    def relu_derivative(x):\n",
    "        return (x > 0) * 1\n",
    "\n",
    "    @staticmethod\n",
    "    def logistic_loss(a, y):\n",
    "        return - (y * math.log(a + MiniBatchDeepNetwork.epsilon) + (1 - y) * math.log(1 - a + MiniBatchDeepNetwork.epsilon))\n",
    "\n",
    "    # Proper transpose, not this numpy BS\n",
    "    @staticmethod\n",
    "    def transpose(x):\n",
    "        if len(np.shape(x)) == 1:\n",
    "            return x.reshape(1, -1)\n",
    "        return np.transpose(x)\n",
    "\n",
    "    @staticmethod\n",
    "    def one_d_always_two_d(x):\n",
    "        if len(np.shape(x)) == 1:\n",
    "            return x[:, np.newaxis]\n",
    "        else:\n",
    "            return x\n",
    "\n",
    "    # Based on https://en.wikipedia.org/wiki/Feature_scaling\n",
    "    @staticmethod\n",
    "    def normalize(x, x_min, x_max, new_min=-1, new_max=1):\n",
    "        return ((x - x_min) / (x_max - x_min)) * (new_max - new_min) + new_min\n",
    "\n",
    "    @staticmethod\n",
    "    def normalizer_constructor (data, normalize):\n",
    "        t_data = MiniBatchDeepNetwork.transpose(data)\n",
    "        x_min = []\n",
    "        x_max = []\n",
    "        for d_vector in t_data:\n",
    "            x_min.append(min(d_vector))\n",
    "            x_max.append(max(d_vector))\n",
    "\n",
    "        return lambda x: np.array([normalize(xx, x_min[idx], x_max[idx]) for idx, xx in enumerate(x)])\n",
    "\n",
    "    @staticmethod\n",
    "    def shuffle (data, labels):\n",
    "        # Below 3 lines based on https://play.pixelblaster.ro/blog/2017/01/20/how-to-shuffle-two-arrays-to-the-same-order/\n",
    "        l = labels.shape[0]\n",
    "        s = np.arange(l) # seed\n",
    "        np.random.shuffle(s)\n",
    "\n",
    "        data = np.array(data[s])\n",
    "        labels = np.array(labels[s])\n",
    "\n",
    "        return data, labels\n",
    "\n",
    "    def add_layer(self, k, weights_init = None,\n",
    "                 biases_init = None,\n",
    "                 activation = None,\n",
    "                 activation_derivative = None,\n",
    "                 input_size = None\n",
    "                 ):\n",
    "\n",
    "        if weights_init is None:\n",
    "            weights_init = MiniBatchDeepNetwork.weights_init\n",
    "\n",
    "        if biases_init is None:\n",
    "            biases_init = MiniBatchDeepNetwork.biases_init\n",
    "\n",
    "        if activation is None:\n",
    "            activation = MiniBatchDeepNetwork.sigmoid\n",
    "\n",
    "        if activation_derivative is None:\n",
    "            activation_derivative = MiniBatchDeepNetwork.sigmoid_derivative\n",
    "\n",
    "        if len(self.input_size) == 0 and input_size is None:\n",
    "            raise Exception(\"You are creating an input layer and did not provide input size\")\n",
    "        elif len(self.k) > 0:\n",
    "            input_size = self.k[-1]\n",
    "\n",
    "        self.k.append(k)\n",
    "        self.input_size.append(input_size)\n",
    "        self.weights.append(weights_init((k, input_size)))\n",
    "        self.biases.append(biases_init((k,)))\n",
    "        self.activation.append(np.vectorize(activation))\n",
    "        self.activation_derivative.append(np.vectorize(activation_derivative))\n",
    "\n",
    "    def train(self, data, labels, alpha=0.01, stop_early=False, stop_avg_loss=0.01, n_loss_avg=10,\n",
    "              mbatch_size = 10,\n",
    "              epochs = 5,\n",
    "              loss_function=None,\n",
    "              normalize=None\n",
    "              ):\n",
    "\n",
    "        if loss_function is None:\n",
    "            loss_function = MiniBatchDeepNetwork.logistic_loss\n",
    "\n",
    "        if normalize is None:\n",
    "            normalize = MiniBatchDeepNetwork.normalize\n",
    "\n",
    "        self.loss_function = np.vectorize(loss_function)\n",
    "        alpha = float(alpha)\n",
    "        self.normalizer = MiniBatchDeepNetwork.normalizer_constructor(data, normalize)\n",
    "\n",
    "        losses = []\n",
    "        for iter in range(epochs):\n",
    "            # randomize data in each epoch\n",
    "            data, labels = MiniBatchDeepNetwork.shuffle(data, labels)\n",
    "\n",
    "            # Split into batches\n",
    "            mbatches_data = np.array_split(data, mbatch_size)\n",
    "            mbatches_labels = np.array_split(labels, mbatch_size)\n",
    "\n",
    "            for mbatch_data, mbatch_labels in zip(mbatches_data, mbatches_labels):\n",
    "                losses = []\n",
    "                weights_sum = []\n",
    "                biases_sum = []\n",
    "                for weights, biases in zip(self.weights, self.biases):\n",
    "                    weights_sum.append(np.zeros(np.shape(weights)))\n",
    "                    biases_sum.append(np.zeros(np.shape(biases)))\n",
    "\n",
    "                for dp, label in zip(mbatch_data, mbatch_labels):\n",
    "                    a, z = self.f_propagate(dp)\n",
    "                    # loss = self.loss_function(a[-1], label)[0]\n",
    "                    # losses.append(loss)\n",
    "\n",
    "                    # Based on my old assignment https://github.com/jaroslawjanas/NN-Perceptron\n",
    "                    # (math is included in the repo https://github.com/jaroslawjanas/NN-Perceptron/tree/master/maths) which\n",
    "                    # is based on this playlist of videos https://youtube.com/playlist?list=PLZHQObOWTQDNU6R1_67000Dx_ZCJB-3pi\n",
    "                    # and partially based on https://sudeepraja.github.io/Neural/\n",
    "\n",
    "                    dL_da_mn = None\n",
    "                    for i in range(1, len(self.k)):\n",
    "\n",
    "                        if(i == 1):\n",
    "                            # Output layer\n",
    "\n",
    "                            # dL_dz = a[-i] - label  # <-- This is faster because it's mathematically simplified\n",
    "                            # dL_da = (a[-i] - label) / ((a[-i] * (1 - a[-i])) + MiniBatchDeepNetwork.epsilon) # this is ugly\n",
    "\n",
    "                            # this avoids division by 0\n",
    "                            if (a[-i] * (1 - a[-i])) == 0:\n",
    "                                dL_da = (a[-i] - label) / MiniBatchDeepNetwork.epsilon\n",
    "                            else:\n",
    "                                dL_da = (a[-i] - label) / (a[-i] * (1 - a[-i]))\n",
    "\n",
    "                            da_dz = self.activation_derivative[-i](z[-i])\n",
    "                            dL_dz = dL_da *  da_dz # <-- but this is more flexible, I can specify my own activation for output layer\n",
    "                            dz_dw = a[-(i+1)]  # previous layer\n",
    "                            dz_db = 1\n",
    "                            dz_da_m1 = self.weights[-i]\n",
    "\n",
    "\n",
    "                            dL_dw = dL_dz.dot(MiniBatchDeepNetwork.transpose(dz_dw))\n",
    "                            dL_db = dL_dz * dz_db\n",
    "                            dL_da_mn = MiniBatchDeepNetwork.transpose(dz_da_m1).dot(dL_dz) # this line is based on https://sudeepraja.github.io/Neural/\n",
    "\n",
    "                            weights_sum[-i] -= alpha * dL_dw\n",
    "                            biases_sum[-i] -= alpha * dL_db\n",
    "\n",
    "                        else:\n",
    "                            # Hidden Layers\n",
    "\n",
    "                            da_m1_dz_m1 = self.activation_derivative[-i](z[-i])\n",
    "                            dL_dz_m1 = dL_da_mn * da_m1_dz_m1\n",
    "                            dz_m1_dw_m1 = a[-(i+1)]\n",
    "                            dz_m1_db_m1 = 1\n",
    "                            if i is not len(self.k):\n",
    "                                dz_m1_da_m2 = self.weights[-i]\n",
    "\n",
    "                            # dL_dw_m1 = dL_dz_m1[:,np.newaxis].dot(MiniBatchDeepNetwork.transpose(dz_m1_dw_m1))\n",
    "                            dL_dw_m1 = MiniBatchDeepNetwork.one_d_always_two_d(dL_dz_m1).dot(MiniBatchDeepNetwork.transpose(dz_m1_dw_m1))\n",
    "                            # above line is based on https://sudeepraja.github.io/Neural/\n",
    "                            dL_db_m1 = dL_dz_m1 * dz_m1_db_m1\n",
    "\n",
    "                            if i is not len(self.k):\n",
    "                                dL_da_mn = MiniBatchDeepNetwork.transpose(dz_m1_da_m2).dot(dL_dz_m1)\n",
    "\n",
    "                            weights_sum[-i] -= alpha * dL_dw_m1\n",
    "                            biases_sum[-i] -=  alpha * dL_db_m1\n",
    "\n",
    "                for weights, biases, w_sum, b_sum in zip(self.weights, self.biases, weights_sum, biases_sum):\n",
    "                    weights += w_sum / len(weights_sum)\n",
    "                    biases += b_sum / len(biases_sum)\n",
    "\n",
    "    def f_propagate(self, in_dp):\n",
    "        norm_in_dp = self.normalizer(in_dp)\n",
    "        a = [norm_in_dp]\n",
    "        zz = []\n",
    "        for weights, biases, activation in zip(self.weights, self.biases, self.activation):\n",
    "\n",
    "            z = np.dot(weights, a[-1]) + biases\n",
    "            zz = zz + [z]\n",
    "            a = a + [activation(z)]\n",
    "\n",
    "        return a, zz\n",
    "\n",
    "    def predict(self, in_dp):\n",
    "        a, _ = self.f_propagate(in_dp)\n",
    "        return a[-1]"
   ]
  },
  {
   "cell_type": "markdown",
   "metadata": {},
   "source": [
    "### Blobs"
   ]
  },
  {
   "cell_type": "code",
   "execution_count": 42,
   "metadata": {
    "pycharm": {
     "name": "#%%\n"
    }
   },
   "outputs": [],
   "source": [
    "minib_dnn_blobs = MiniBatchDeepNetwork()\n",
    "minib_dnn_blobs.add_layer(10, input_size=len(data[\"blobs\"][\"training\"][\"input\"][0]), activation=DeepNetwork.relu, activation_derivative=DeepNetwork.relu_derivative)\n",
    "minib_dnn_blobs.add_layer(1)\n",
    "\n",
    "minib_dnn_blobs.train(data[\"blobs\"][\"training\"][\"input\"], data[\"blobs\"][\"training\"][\"classes\"],\n",
    "                alpha=0.6, mbatch_size=15, epochs = 20)"
   ]
  },
  {
   "cell_type": "code",
   "execution_count": 43,
   "metadata": {
    "pycharm": {
     "name": "#%%\n"
    }
   },
   "outputs": [
    {
     "name": "stdout",
     "output_type": "stream",
     "text": [
      "Accuracy = 0.8444444444444444\n"
     ]
    }
   ],
   "source": [
    "correct = 0\n",
    "for dp, label in zip(data[\"blobs\"][\"testing\"][\"input\"], data[\"blobs\"][\"testing\"][\"classes\"]):\n",
    "    a = minib_dnn_blobs.predict(dp)\n",
    "\n",
    "    if round(a[0]) == label:\n",
    "        correct += 1\n",
    "\n",
    "print(f\"Accuracy = {correct / len(data['blobs']['testing']['classes'])}\")"
   ]
  },
  {
   "cell_type": "code",
   "execution_count": 44,
   "metadata": {
    "pycharm": {
     "name": "#%%\n"
    }
   },
   "outputs": [
    {
     "name": "stdout",
     "output_type": "stream",
     "text": [
      "Accuracy = 0.7777777777777778\n"
     ]
    }
   ],
   "source": [
    "correct = 0\n",
    "for dp, label in zip(data[\"blobs\"][\"validation\"][\"input\"], data[\"blobs\"][\"validation\"][\"classes\"]):\n",
    "    a = minib_dnn_blobs.predict(dp)\n",
    "\n",
    "    if round(a[0]) == label:\n",
    "        correct += 1\n",
    "\n",
    "print(f\"Accuracy = {correct / len(data['blobs']['validation']['classes'])}\")"
   ]
  },
  {
   "cell_type": "markdown",
   "metadata": {
    "pycharm": {
     "name": "#%% md\n"
    }
   },
   "source": [
    "Good results and quicker training."
   ]
  },
  {
   "cell_type": "markdown",
   "metadata": {},
   "source": [
    "### Circles"
   ]
  },
  {
   "cell_type": "code",
   "execution_count": 45,
   "metadata": {
    "pycharm": {
     "name": "#%%\n"
    }
   },
   "outputs": [],
   "source": [
    "minib_dnn_circles = MiniBatchDeepNetwork()\n",
    "minib_dnn_circles.add_layer(32, input_size=len(data[\"circles\"][\"training\"][\"input\"][0]), activation=DeepNetwork.relu, activation_derivative=DeepNetwork.relu_derivative)\n",
    "minib_dnn_circles.add_layer(16)\n",
    "minib_dnn_circles.add_layer(1)\n",
    "\n",
    "minib_dnn_circles.train(data[\"circles\"][\"training\"][\"input\"], data[\"circles\"][\"training\"][\"classes\"],\n",
    "                  alpha=0.04, mbatch_size=20, epochs = 40)"
   ]
  },
  {
   "cell_type": "code",
   "execution_count": 46,
   "metadata": {
    "pycharm": {
     "name": "#%%\n"
    }
   },
   "outputs": [
    {
     "name": "stdout",
     "output_type": "stream",
     "text": [
      "Accuracy = 0.9\n"
     ]
    }
   ],
   "source": [
    "correct = 0\n",
    "for dp, label in zip(data[\"circles\"][\"testing\"][\"input\"], data[\"circles\"][\"testing\"][\"classes\"]):\n",
    "    a = minib_dnn_circles.predict(dp)\n",
    "\n",
    "    if round(a[0]) == label:\n",
    "        correct += 1\n",
    "\n",
    "print(f\"Accuracy = {correct / len(data['circles']['testing']['classes'])}\")"
   ]
  },
  {
   "cell_type": "code",
   "execution_count": 47,
   "metadata": {
    "pycharm": {
     "name": "#%%\n"
    }
   },
   "outputs": [
    {
     "name": "stdout",
     "output_type": "stream",
     "text": [
      "Accuracy = 0.9\n"
     ]
    }
   ],
   "source": [
    "correct = 0\n",
    "for dp, label in zip(data[\"circles\"][\"validation\"][\"input\"], data[\"circles\"][\"validation\"][\"classes\"]):\n",
    "    a = minib_dnn_circles.predict(dp)\n",
    "\n",
    "    if round(a[0]) == label:\n",
    "        correct += 1\n",
    "\n",
    "print(f\"Accuracy = {correct / len(data['circles']['validation']['classes'])}\")"
   ]
  },
  {
   "cell_type": "markdown",
   "metadata": {
    "pycharm": {
     "name": "#%% md\n"
    }
   },
   "source": [
    "The results continue to match or outperform those of a `DeepNetwork`."
   ]
  },
  {
   "cell_type": "markdown",
   "metadata": {},
   "source": [
    "### Horse Truck"
   ]
  },
  {
   "cell_type": "code",
   "execution_count": 48,
   "metadata": {
    "pycharm": {
     "name": "#%%\n"
    }
   },
   "outputs": [],
   "source": [
    "minib_dnn_horse_truck = MiniBatchDeepNetwork()\n",
    "minib_dnn_horse_truck.add_layer(256, input_size=len(data[\"horse_truck\"][\"training\"][\"input\"][0]), activation=DeepNetwork.relu, activation_derivative=DeepNetwork.relu_derivative)\n",
    "minib_dnn_horse_truck.add_layer(64, activation=DeepNetwork.relu, activation_derivative=DeepNetwork.relu_derivative)\n",
    "minib_dnn_horse_truck.add_layer(32)\n",
    "minib_dnn_horse_truck.add_layer(1)\n",
    "\n",
    "minib_dnn_horse_truck.train(data[\"horse_truck\"][\"training\"][\"input\"], data[\"horse_truck\"][\"training\"][\"classes\"],\n",
    "                  # alpha=0.05, iterations=40_000,\n",
    "                  alpha=0.005, mbatch_size=32, epochs = 40)"
   ]
  },
  {
   "cell_type": "code",
   "execution_count": 49,
   "metadata": {
    "pycharm": {
     "name": "#%%\n"
    }
   },
   "outputs": [
    {
     "name": "stdout",
     "output_type": "stream",
     "text": [
      "Accuracy = 0.7449664429530202\n"
     ]
    }
   ],
   "source": [
    "correct = 0\n",
    "for dp, label in zip(data[\"horse_truck\"][\"testing\"][\"input\"], data[\"horse_truck\"][\"testing\"][\"classes\"]):\n",
    "    a = minib_dnn_horse_truck.predict(dp)\n",
    "\n",
    "    if round(a[0]) == label:\n",
    "        correct += 1\n",
    "\n",
    "print(f\"Accuracy = {correct / len(data['horse_truck']['testing']['classes'])}\")"
   ]
  },
  {
   "cell_type": "code",
   "execution_count": 50,
   "metadata": {
    "pycharm": {
     "name": "#%%\n"
    }
   },
   "outputs": [
    {
     "name": "stdout",
     "output_type": "stream",
     "text": [
      "Accuracy = 0.7878787878787878\n"
     ]
    }
   ],
   "source": [
    "correct = 0\n",
    "for dp, label in zip(data[\"horse_truck\"][\"validation\"][\"input\"], data[\"horse_truck\"][\"validation\"][\"classes\"]):\n",
    "    a = minib_dnn_horse_truck.predict(dp)\n",
    "\n",
    "    if round(a[0]) == label:\n",
    "        correct += 1\n",
    "\n",
    "print(f\"Accuracy = {correct / len(data['horse_truck']['validation']['classes'])}\")"
   ]
  },
  {
   "cell_type": "markdown",
   "metadata": {
    "pycharm": {
     "name": "#%% md\n"
    }
   },
   "source": [
    "It took about the same time but yielded much more consistent results. It seems like convergence is much better."
   ]
  }
 ],
 "metadata": {
  "kernelspec": {
   "display_name": "Python 3.9.12 ('base')",
   "language": "python",
   "name": "python3"
  },
  "language_info": {
   "codemirror_mode": {
    "name": "ipython",
    "version": 3
   },
   "file_extension": ".py",
   "mimetype": "text/x-python",
   "name": "python",
   "nbconvert_exporter": "python",
   "pygments_lexer": "ipython3",
   "version": "3.9.12"
  },
  "vscode": {
   "interpreter": {
    "hash": "c529e9d9a92e9ffe906d7b8d4f145ac7732f0940b3bf2e0707363ba96b0f3885"
   }
  }
 },
 "nbformat": 4,
 "nbformat_minor": 2
}
